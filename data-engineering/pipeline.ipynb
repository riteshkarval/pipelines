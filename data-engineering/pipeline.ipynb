{
 "cells": [
  {
   "cell_type": "code",
   "execution_count": null,
   "metadata": {},
   "outputs": [],
   "source": [
    "from dkube.sdk import *\n",
    "import os"
   ]
  },
  {
   "cell_type": "code",
   "execution_count": null,
   "metadata": {},
   "outputs": [],
   "source": [
    "existing_token = os.getenv(\"DKUBE_USER_ACCESS_TOKEN\")\n",
    "user = os.getenv('USERNAME', 'songole')\n",
    "code_name = \"tmdb\"\n",
    "merge_ds = \"tmdb-merged\"\n",
    "clean_ds = \"tmdb-cleaned\"\n",
    "train_fs = \"tmdb-train-fs\"\n",
    "test_fs  = \"tmdb-test-fs\""
   ]
  },
  {
   "cell_type": "code",
   "execution_count": null,
   "metadata": {},
   "outputs": [],
   "source": [
    "api = DkubeApi(token=existing_token)"
   ]
  },
  {
   "cell_type": "code",
   "execution_count": null,
   "metadata": {},
   "outputs": [],
   "source": [
    "print(f\"Adding code {code_name}\")\n",
    "code = DkubeCode(user, name=code_name)\n",
    "code.update_git_details(\"https://github.com/riteshkarvaloc/pipelines.git\")\n",
    "api.create_code(code)\n",
    "print(f\"Code {code_name} added\")\n",
    "\n",
    "print(f\"Adding dataset {merge_ds}\")\n",
    "dataset = DkubeDataset(user, name=merge_ds)\n",
    "dataset.update_dataset_source(source='dvs')\n",
    "api.create_dataset(dataset)\n",
    "print(f\"Dataset {merge_ds} added\")\n",
    "\n",
    "print(f\"Adding dataset {clean_ds}\")\n",
    "dataset = DkubeDataset(user, name=clean_ds)\n",
    "dataset.update_dataset_source(source='dvs')\n",
    "api.create_dataset(dataset)\n",
    "print(f\"Dataset {clean_ds} added\")\n",
    "\n",
    "print(f\"Adding featureset {train_fs}\")\n",
    "featureset = DkubeFeatureSet(name=train_fs)\n",
    "api.create_featureset(featureset)\n",
    "print(f\"Featureset {train_fs} added\")\n",
    "\n",
    "print(f\"Adding featureset {test_fs}\")\n",
    "featureset = DkubeFeatureSet(name=test_fs)\n",
    "api.create_featureset(featureset)\n",
    "print(f\"Featureset {test_fs} added\")"
   ]
  },
  {
   "cell_type": "code",
   "execution_count": null,
   "metadata": {},
   "outputs": [],
   "source": [
    "import os, json\n",
    "import kfp\n",
    "import kfp.compiler as compiler\n",
    "import random\n",
    "import string\n",
    "\n",
    "generate = lambda hint: \"{}-{}\".format(hint, ''.join([random.choice(string.digits) for n in range(4)]))"
   ]
  },
  {
   "cell_type": "code",
   "execution_count": null,
   "metadata": {},
   "outputs": [],
   "source": [
    "client = kfp.Client(existing_token=existing_token)"
   ]
  },
  {
   "cell_type": "code",
   "execution_count": null,
   "metadata": {},
   "outputs": [],
   "source": [
    "image = \"docker.io/ocdr/dkube-datascience-tf-cpu:v2.0.0-3\"\n",
    "merge_ds_path = \"/data/merge\"\n",
    "clean_ds_path = \"/data/clean\"\n",
    "test_fs_path = \"/data/test_fs\"\n",
    "train_fs_path = \"/data/train_fs\"\n",
    "merge_script = \"cd data-engineering; python merging.py\"\n",
    "clean_script = \"cd data-engineering; python cleaning.py\"\n",
    "feature_script = f\"cd data-engineering; python feature-engineering.py --train_fs {train_fs} --test_fs {test_fs}\""
   ]
  },
  {
   "cell_type": "code",
   "execution_count": null,
   "metadata": {},
   "outputs": [],
   "source": [
    "components_url = \"/mnt/dkube/pipeline/components/\"\n",
    "dkube_preprocessing_op = kfp.components.load_component_from_file(components_url + \"preprocess/component.yaml\")"
   ]
  },
  {
   "cell_type": "code",
   "execution_count": null,
   "metadata": {},
   "outputs": [],
   "source": [
    "@kfp.dsl.pipeline(\n",
    "    name='dkube-DE-pl',\n",
    "    description='example titanic pipeline to submit to leaderboard'\n",
    ")\n",
    "def data_engineering_pipeline(token):\n",
    "\n",
    "    merge = dkube_preprocessing_op(token, json.dumps({\"image\": image}),\n",
    "                                   program=code_name, run_script=merge_script,\n",
    "                                   outputs=json.dumps([str(merge_ds)]),\n",
    "                                   output_mounts=json.dumps([merge_ds_path])).set_display_name(\"Merging\")\n",
    "    \n",
    "    clean = dkube_preprocessing_op(token, json.dumps({\"image\": image}),\n",
    "                                   program=code_name, run_script=clean_script,\n",
    "                                   datasets = json.dumps([str(merge_ds)]),\n",
    "                                   input_dataset_mounts = json.dumps([merge_ds_path]),\n",
    "                                   outputs=json.dumps([str(clean_ds)]),\n",
    "                                   output_mounts=json.dumps([clean_ds_path])).after(merge).set_display_name(\"cleaning\")\n",
    "    \n",
    "    f_eng = dkube_preprocessing_op(token, json.dumps({\"image\": image}),\n",
    "                                   program=code_name, run_script=feature_script,\n",
    "                                   datasets=json.dumps([str(clean_ds)]), \n",
    "                                   output_featuresets=json.dumps([train_fs, test_fs]),\n",
    "                                   input_dataset_mounts=json.dumps([clean_ds_path]), \n",
    "                                   output_featureset_mounts=json.dumps([train_fs_path, test_fs_path])\n",
    "                                    ).after(clean).set_display_name(\"Feature-Engineering\")"
   ]
  },
  {
   "cell_type": "code",
   "execution_count": null,
   "metadata": {},
   "outputs": [],
   "source": [
    "experiment_name = 'Dkube- DE pl'\n",
    "de_experiment = client.create_experiment(name=experiment_name)"
   ]
  },
  {
   "cell_type": "code",
   "execution_count": null,
   "metadata": {},
   "outputs": [],
   "source": [
    "import kfp.compiler as compiler\n",
    "arguments = {\"token\":existing_token}\n",
    "compiler.Compiler().compile(data_engineering_pipeline, \"de-pipeline.zip\")\n",
    "try:\n",
    "    pipeline = client.upload_pipeline(\"de-pipeline.zip\", pipeline_name = \"DE-pipeline\")\n",
    "except BaseException as e:\n",
    "    print(e)\n",
    "runid = 1"
   ]
  },
  {
   "cell_type": "code",
   "execution_count": 24,
   "metadata": {},
   "outputs": [
    {
     "data": {
      "text/html": [
       "Run link <a href=\"/pipeline/#/runs/details/7d902173-39bb-4644-b565-0b9ef696ccec\" target=\"_blank\" >here</a>"
      ],
      "text/plain": [
       "<IPython.core.display.HTML object>"
      ]
     },
     "metadata": {},
     "output_type": "display_data"
    }
   ],
   "source": [
    "run = client.run_pipeline(de_experiment.id, job_name=f\"[{pipeline.name}] Run\" + str(runid), pipeline_id=pipeline.id, params=arguments)\n",
    "runid += 1"
   ]
  },
  {
   "cell_type": "code",
   "execution_count": null,
   "metadata": {},
   "outputs": [],
   "source": []
  }
 ],
 "metadata": {
  "kernelspec": {
   "display_name": "Python 3",
   "language": "python",
   "name": "python3"
  },
  "language_info": {
   "codemirror_mode": {
    "name": "ipython",
    "version": 3
   },
   "file_extension": ".py",
   "mimetype": "text/x-python",
   "name": "python",
   "nbconvert_exporter": "python",
   "pygments_lexer": "ipython3",
   "version": "3.6.8"
  }
 },
 "nbformat": 4,
 "nbformat_minor": 4
}
